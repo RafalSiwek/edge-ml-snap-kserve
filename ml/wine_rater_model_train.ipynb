{
 "cells": [
  {
   "cell_type": "markdown",
   "id": "d037e059",
   "metadata": {},
   "source": [
    "### Inspired by the [e2e-wine-kfp-mlflow example](https://github.com/canonical/kubeflow-examples/tree/main/e2e-wine-kfp-mlflow)"
   ]
  },
  {
   "cell_type": "markdown",
   "id": "22005d3c",
   "metadata": {},
   "source": [
    "# Install Python packages"
   ]
  },
  {
   "cell_type": "code",
   "execution_count": null,
   "id": "a9375615",
   "metadata": {
    "tags": []
   },
   "outputs": [],
   "source": [
    "!pip install pyarrow scikit-learn pandas joblib"
   ]
  },
  {
   "cell_type": "markdown",
   "metadata": {},
   "source": [
    "# Preprocess data"
   ]
  },
  {
   "cell_type": "code",
   "execution_count": null,
   "metadata": {},
   "outputs": [],
   "source": [
    "def preprocess(file_path, output_file):\n",
    "    import pandas as pd\n",
    "    df = pd.read_csv(file_path, header=0, sep=\";\")\n",
    "    df.columns = [c.lower().replace(' ', '_') for c in df.columns]\n",
    "    df.to_parquet(output_file)"
   ]
  },
  {
   "cell_type": "code",
   "execution_count": null,
   "metadata": {},
   "outputs": [],
   "source": [
    "preprocess('data/winequality-red.csv', 'data/preprocessed.parquet')"
   ]
  },
  {
   "cell_type": "markdown",
   "metadata": {},
   "source": [
    "# Train model"
   ]
  },
  {
   "cell_type": "code",
   "execution_count": null,
   "metadata": {},
   "outputs": [],
   "source": [
    "def trainning(file_path):\n",
    "    import pandas as pd\n",
    "    from sklearn.model_selection import train_test_split\n",
    "    from sklearn.metrics import classification_report\n",
    "    from sklearn.linear_model import ElasticNet\n",
    "    \n",
    "    df = pd.read_parquet(file_path)\n",
    "    \n",
    "    target_column='quality'\n",
    "    train_x, test_x, train_y, test_y = train_test_split(df.drop(columns=[target_column]),\n",
    "                                                    df[target_column], test_size=.25,\n",
    "                                                    random_state=1337, stratify=df[target_column])    \n",
    "   \n",
    "    alpha =  0.5\n",
    "    l1_ratio =  0.5\n",
    "    lr = ElasticNet(alpha=alpha, l1_ratio=l1_ratio, random_state=42)\n",
    "    lr.fit(train_x, train_y)\n",
    "    return lr"
   ]
  },
  {
   "cell_type": "code",
   "execution_count": null,
   "id": "6e6e6214",
   "metadata": {},
   "outputs": [],
   "source": [
    "lr = trainning('data/preprocessed.parquet')"
   ]
  },
  {
   "cell_type": "markdown",
   "id": "d0174948",
   "metadata": {},
   "source": [
    "# Save the trained model"
   ]
  },
  {
   "cell_type": "code",
   "execution_count": null,
   "id": "3818faed",
   "metadata": {},
   "outputs": [],
   "source": [
    "from joblib import dump, load\n",
    "\n",
    "dump(lr, 'model/wine-rater.joblib')"
   ]
  },
  {
   "cell_type": "markdown",
   "id": "67b2bafd",
   "metadata": {},
   "source": [
    "# (Optional) Load the saved model and test it"
   ]
  },
  {
   "cell_type": "code",
   "execution_count": null,
   "id": "0a490b48",
   "metadata": {},
   "outputs": [],
   "source": [
    "wine_rater = load('model/wine-rater.joblib')\n",
    "wine_rater.predict([[5.6, 0.31, 0.37, 1.4, 0.074, 12.0, 96.0, 0.9954, 3.32, 0.58, 9.2]])"
   ]
  }
 ],
 "metadata": {
  "kernelspec": {
   "display_name": "Python 3",
   "language": "python",
   "name": "python3"
  },
  "kubeflow_notebook": {
   "autosnapshot": false,
   "docker_image": "afrikha/uat2:latest",
   "experiment": {
    "id": "",
    "name": ""
   },
   "experiment_name": "",
   "katib_metadata": {
    "algorithm": {
     "algorithmName": "grid"
    },
    "maxFailedTrialCount": 3,
    "maxTrialCount": 12,
    "objective": {
     "objectiveMetricName": "",
     "type": "minimize"
    },
    "parallelTrialCount": 3,
    "parameters": []
   },
   "katib_run": false,
   "pipeline_description": "",
   "pipeline_name": "",
   "snapshot_volumes": false,
   "steps_defaults": [
    "label:access-minio:true",
    "label:access-ml-pipeline:true",
    "label:access-mlflow:true"
   ],
   "volume_access_mode": "rwm",
   "volumes": []
  },
  "language_info": {
   "codemirror_mode": {
    "name": "ipython",
    "version": 3
   },
   "file_extension": ".py",
   "mimetype": "text/x-python",
   "name": "python",
   "nbconvert_exporter": "python",
   "pygments_lexer": "ipython3",
   "version": "3.9.13"
  }
 },
 "nbformat": 4,
 "nbformat_minor": 5
}
